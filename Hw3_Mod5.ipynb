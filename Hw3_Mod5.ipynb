{
 "cells": [
  {
   "cell_type": "code",
   "execution_count": 13,
   "id": "abe9fd78-74ee-46dc-8125-bd9b59b76c8c",
   "metadata": {},
   "outputs": [
    {
     "name": "stdout",
     "output_type": "stream",
     "text": [
      "<bound method NDFrame.head of                                                   Name  \\\n",
      "0                        10-Day Green Smoothie Cleanse   \n",
      "1                                    11/22/63: A Novel   \n",
      "2              12 Rules for Life: An Antidote to Chaos   \n",
      "3                               1984 (Signet Classics)   \n",
      "4    5,000 Awesome Facts (About Everything!) (Natio...   \n",
      "..                                                 ...   \n",
      "545       Wrecking Ball (Diary of a Wimpy Kid Book 14)   \n",
      "546  You Are a Badass: How to Stop Doubting Your Gr...   \n",
      "547  You Are a Badass: How to Stop Doubting Your Gr...   \n",
      "548  You Are a Badass: How to Stop Doubting Your Gr...   \n",
      "549  You Are a Badass: How to Stop Doubting Your Gr...   \n",
      "\n",
      "                       Author  User Rating  Reviews  Price  Year        Genre  \n",
      "0                    JJ Smith          4.7    17350      8  2016  Non Fiction  \n",
      "1                Stephen King          4.6     2052     22  2011      Fiction  \n",
      "2          Jordan B. Peterson          4.7    18979     15  2018  Non Fiction  \n",
      "3               George Orwell          4.7    21424      6  2017      Fiction  \n",
      "4    National Geographic Kids          4.8     7665     12  2019  Non Fiction  \n",
      "..                        ...          ...      ...    ...   ...          ...  \n",
      "545               Jeff Kinney          4.9     9413      8  2019      Fiction  \n",
      "546               Jen Sincero          4.7    14331      8  2016  Non Fiction  \n",
      "547               Jen Sincero          4.7    14331      8  2017  Non Fiction  \n",
      "548               Jen Sincero          4.7    14331      8  2018  Non Fiction  \n",
      "549               Jen Sincero          4.7    14331      8  2019  Non Fiction  \n",
      "\n",
      "[550 rows x 7 columns]>\n",
      "<class 'pandas.core.frame.DataFrame'>\n",
      "RangeIndex: 550 entries, 0 to 549\n",
      "Data columns (total 7 columns):\n",
      " #   Column       Non-Null Count  Dtype  \n",
      "---  ------       --------------  -----  \n",
      " 0   Name         550 non-null    object \n",
      " 1   Author       550 non-null    object \n",
      " 2   User Rating  550 non-null    float64\n",
      " 3   Reviews      550 non-null    int64  \n",
      " 4   Price        550 non-null    int64  \n",
      " 5   Year         550 non-null    int64  \n",
      " 6   Genre        550 non-null    object \n",
      "dtypes: float64(1), int64(3), object(3)\n",
      "memory usage: 30.2+ KB\n",
      "розміри датасету: (550, 7)\n",
      "Датасет зберігає 550 книг\n"
     ]
    }
   ],
   "source": [
    "#importing packages\n",
    "import numpy as np\n",
    "import pandas as pd\n",
    "import matplotlib.pyplot as plt\n",
    "import seaborn as sns\n",
    "#Прочитайте csv файл (використовуйте функцію read_csv)\n",
    "df = pd.read_csv('bestsellers.csv')\n",
    "#Виведіть перші п'ять рядків (використовується функція head)\n",
    "print(df.head)\n",
    "df.info() \n",
    "#Виведіть розміри датасету (використовуйте атрибут shape)\n",
    "print(f'розміри датасету: {df.shape}')\n",
    "\n",
    "#Відповідь: Про скільки книг зберігає дані датасет?\n",
    "print('Датасет зберігає 550 книг')"
   ]
  },
  {
   "cell_type": "code",
   "execution_count": 21,
   "id": "73795857-8ce1-42c5-b9fc-1417ca823f20",
   "metadata": {},
   "outputs": [
    {
     "name": "stdout",
     "output_type": "stream",
     "text": [
      " 1 Index(['name', 'author', 'user_rating', 'reviews', 'price', 'year', 'genre'], dtype='object')\n",
      " 2 Index(['name', 'author', 'user_rating', 'reviews', 'price', 'year', 'genre'], dtype='object')\n"
     ]
    }
   ],
   "source": [
    "df.columns = ['name', 'author', 'user_rating', 'reviews', 'price', 'year', 'genre']\n",
    "print(f\" 2 {df.columns}\")"
   ]
  },
  {
   "cell_type": "code",
   "execution_count": 17,
   "id": "1a0d0e32-ceb1-4a54-a94f-b2acec99c7e0",
   "metadata": {},
   "outputs": [
    {
     "name": "stdout",
     "output_type": "stream",
     "text": [
      "Name           0\n",
      "Author         0\n",
      "User Rating    0\n",
      "Reviews        0\n",
      "Price          0\n",
      "Year           0\n",
      "Genre          0\n",
      "dtype: int64\n"
     ]
    }
   ],
   "source": [
    "#Перевірте, чи у всіх рядків вистачає даних: виведіть кількість пропусків (na) у кожному зі стовпців (використовуйте функції isna та sum)\n",
    "# Виведення кількості пропусків у кожному стовпці\n",
    "na = df.isna().sum()\n",
    "print(na)"
   ]
  },
  {
   "cell_type": "code",
   "execution_count": 16,
   "id": "69754be9-e55f-4538-a626-12ae781d2f71",
   "metadata": {},
   "outputs": [
    {
     "name": "stdout",
     "output_type": "stream",
     "text": [
      "В змінних немає пропусків\n"
     ]
    }
   ],
   "source": [
    "#Відповідь: Чи є в якихось змінних пропуски? (Так / ні)\n",
    "print('В змінних немає пропусків')"
   ]
  },
  {
   "cell_type": "code",
   "execution_count": 22,
   "id": "5dc9c611-65ea-4425-87e2-05a939e9ba1e",
   "metadata": {},
   "outputs": [
    {
     "name": "stdout",
     "output_type": "stream",
     "text": [
      "['Non Fiction' 'Fiction']\n"
     ]
    }
   ],
   "source": [
    "# Отримання унікальних значень в колонці \"genre\"\n",
    "unique_genres = df['genre'].unique()\n",
    "\n",
    "# Виведення унікальних значень\n",
    "print(unique_genres)"
   ]
  },
  {
   "cell_type": "code",
   "execution_count": 23,
   "id": "59b7bb21-1066-4a4c-997e-22d11692ce2c",
   "metadata": {},
   "outputs": [
    {
     "name": "stdout",
     "output_type": "stream",
     "text": [
      "'Non Fiction' 'Fiction'\n"
     ]
    }
   ],
   "source": [
    "#Відповідь: Які є унікальні жанри?\n",
    "print(\"'Non Fiction' 'Fiction'\")\n",
    "#«Нехудожня література» «Художня література»"
   ]
  },
  {
   "cell_type": "code",
   "execution_count": 24,
   "id": "e7ed4f8d-139b-4178-83a0-2feefa4aec69",
   "metadata": {},
   "outputs": [
    {
     "data": {
      "image/png": "[encoded data removed]",
      "text/plain": [
       "<Figure size 640x480 with 1 Axes>"
      ]
     },
     "metadata": {},
     "output_type": "display_data"
    }
   ],
   "source": [
    "#Тепер подивіться на розподіл цін: побудуйте діаграму (використовуйте kind='hist')\n",
    "# Побудова діаграми розподілу цін\n",
    "df['price'].hist(bins=20, color='skyblue', edgecolor='black')\n",
    "\n",
    "# Додавання назви графіку та підписів осей\n",
    "plt.title('Distribution of Prices')\n",
    "plt.xlabel('Price')\n",
    "plt.ylabel('Frequency')\n",
    "\n",
    "# Показ графіка\n",
    "plt.show()"
   ]
  },
  {
   "cell_type": "code",
   "execution_count": 26,
   "id": "636a1fae-d59e-4509-95ed-6b6d91be6746",
   "metadata": {},
   "outputs": [
    {
     "name": "stdout",
     "output_type": "stream",
     "text": [
      "Відповідь: Максимальна ціна: 105\n",
      "Відповідь: Мінімальна ціна: 0\n",
      "Відповідь: Середня ціна: 13.1\n",
      "Відповідь: Медіанна ціна: 11.0\n"
     ]
    }
   ],
   "source": [
    "#Визначте, яка ціна у нас максимальна, мінімальна, середня, медіанна (використовуйте функції max, min, mean, median)\n",
    "# Максимальна ціна\n",
    "max_price = df['price'].max()\n",
    "\n",
    "# Мінімальна ціна\n",
    "min_price = df['price'].min()\n",
    "\n",
    "# Середня ціна\n",
    "mean_price = df['price'].mean()\n",
    "\n",
    "# Медіанна ціна\n",
    "median_price = df['price'].median()\n",
    "#Відповідь: Максимальна ціна?\n",
    "print(\"Відповідь: Максимальна ціна:\", max_price)\n",
    "#Відповідь: Мінімальна ціна?\n",
    "print(\"Відповідь: Мінімальна ціна:\", min_price)\n",
    "#Відповідь: Середня ціна?\n",
    "print(\"Відповідь: Середня ціна:\", mean_price)\n",
    "#Відповідь: Медіанна ціна?\n",
    "print(\"Відповідь: Медіанна ціна:\", median_price)"
   ]
  },
  {
   "cell_type": "code",
   "execution_count": 29,
   "id": "291ec370-5498-4f60-bb5a-dffed46c8079",
   "metadata": {},
   "outputs": [
    {
     "name": "stdout",
     "output_type": "stream",
     "text": [
      "Відповідь: Максимальний рейтинг: 4.9\n"
     ]
    }
   ],
   "source": [
    "#Відповідь: Який рейтинг у датасеті найвищий?\n",
    "max_rating = df['user_rating'].max()\n",
    "print(\"Відповідь: Максимальний рейтинг:\", max_rating)"
   ]
  },
  {
   "cell_type": "code",
   "execution_count": 36,
   "id": "5b1bc40e-7999-4110-bf3f-392ca0f9d243",
   "metadata": {},
   "outputs": [
    {
     "name": "stdout",
     "output_type": "stream",
     "text": [
      "Відповідь: Кількість книг з максимальним рейтингом: 52\n"
     ]
    }
   ],
   "source": [
    "#Відповідь: Скільки книг мають такий рейтинг?\n",
    "#1 Фільтрація книг за максимальним рейтингом\n",
    "max_rating_books = df[df['user_rating'] == max_rating]\n",
    "#2 Кількість книг з максимальним рейтингом\n",
    "num_max_rating_books = len(max_rating_books)\n",
    "# Виведення результатів\n",
    "print(\"Відповідь: Кількість книг з максимальним рейтингом:\", num_max_rating_books)"
   ]
  },
  {
   "cell_type": "code",
   "execution_count": 40,
   "id": "da3a994b-fd55-4bb7-b697-09d5bea0a748",
   "metadata": {},
   "outputs": [
    {
     "name": "stdout",
     "output_type": "stream",
     "text": [
      "Відповідь: Книга, яка має найбільше відгуків:\n",
      "                         name       author  user_rating  reviews  price  year  \\\n",
      "534  Where the Crawdads Sing  Delia Owens          4.8    87841     15  2019   \n",
      "\n",
      "       genre  \n",
      "534  Fiction  \n"
     ]
    }
   ],
   "source": [
    "#Відповідь: Яка книга має найбільше відгуків?\n",
    "\n",
    "max_reviews_book = df['reviews'].max()\n",
    "max_book = df[df['reviews'] == max_reviews_book]\n",
    "# Виведення результатів\n",
    "print(\"Відповідь: Книга, яка має найбільше відгуків:\\n\", max_book)"
   ]
  },
  {
   "cell_type": "code",
   "execution_count": 53,
   "id": "af60862d-f773-45bf-9256-18ea535cd16d",
   "metadata": {},
   "outputs": [
    {
     "name": "stdout",
     "output_type": "stream",
     "text": [
      "                                                  name  \\\n",
      "16   Adult Coloring Book: Stress Relieving Animal D...   \n",
      "17      Adult Coloring Book: Stress Relieving Patterns   \n",
      "18   Adult Coloring Books: A Coloring Book for Adul...   \n",
      "21                         All the Light We Cannot See   \n",
      "23   American Sniper: The Autobiography of the Most...   \n",
      "28                        Baby Touch and Feel: Animals   \n",
      "29            Balance (Angie's Extreme Stress Menders)   \n",
      "34   Being Mortal: Medicine and What Matters in the...   \n",
      "35                            Between the World and Me   \n",
      "54   Creative Haven Creative Cats Coloring Book (Ad...   \n",
      "55   Creative Haven Owls Coloring Book (Adult Color...   \n",
      "63                      Dear Zoo: A Lift-the-Flap Book   \n",
      "89   Dover Creative Haven Art Nouveau Animal Design...   \n",
      "99   Enchanted Forest: An Inky Quest and Coloring b...   \n",
      "111                                    First 100 Words   \n",
      "123                               Giraffes Can't Dance   \n",
      "132                         Go Set a Watchman: A Novel   \n",
      "149  Grey: Fifty Shades of Grey as Told by Christia...   \n",
      "158                         Harry Potter Coloring Book   \n",
      "167              How to Win Friends & Influence People   \n",
      "174                       Humans of New York : Stories   \n",
      "191  Jesus Calling: Enjoying Peace in His Presence ...   \n",
      "201  Killing Reagan: The Violent Assault That Chang...   \n",
      "206                         Knock-Knock Jokes for Kids   \n",
      "210                      Laugh-Out-Loud Jokes for Kids   \n",
      "224                                   Love You Forever   \n",
      "234             Mindset: The New Psychology of Success   \n",
      "248                          Oh, the Places You'll Go!   \n",
      "253              Old School (Diary of a Wimpy Kid #10)   \n",
      "277  Publication Manual of the American Psychologic...   \n",
      "295  Secret Garden: An Inky Treasure Hunt and Color...   \n",
      "310                                StrengthsFinder 2.0   \n",
      "325  The 5 Love Languages: The Secret to Love that ...   \n",
      "335  The 7 Habits of Highly Effective People: Power...   \n",
      "350                          The Book with No Pictures   \n",
      "352  The Boys in the Boat: Nine Americans and Their...   \n",
      "362                           The Day the Crayons Quit   \n",
      "376  The Four Agreements: A Practical Guide to Pers...   \n",
      "382                              The Girl on the Train   \n",
      "423  The Life-Changing Magic of Tidying Up: The Jap...   \n",
      "433                                        The Martian   \n",
      "437                           The Nightingale: A Novel   \n",
      "447  The Pioneer Woman Cooks: Dinnertime - Comfort ...   \n",
      "478                        The Very Hungry Caterpillar   \n",
      "483  The Whole30: The 30-Day Guide to Total Health ...   \n",
      "492                                The Wright Brothers   \n",
      "501  Thug Kitchen: The Official Cookbook: Eat Like ...   \n",
      "507                              To Kill a Mockingbird   \n",
      "528             What Pet Should I Get? (Classic Seuss)   \n",
      "542                                             Wonder   \n",
      "\n",
      "                                 author  user_rating  reviews  price  year  \\\n",
      "16                   Blue Star Coloring          4.6     2925      6  2015   \n",
      "17                   Blue Star Coloring          4.4     2951      6  2015   \n",
      "18            Coloring Books for Adults          4.5     2426      8  2015   \n",
      "21                        Anthony Doerr          4.6    36348     14  2015   \n",
      "23                           Chris Kyle          4.6    15921      9  2015   \n",
      "28                                   DK          4.6     5360      5  2015   \n",
      "29                          Angie Grace          4.6     1909     11  2015   \n",
      "34                         Atul Gawande          4.8    11113     15  2015   \n",
      "35                     Ta-Nehisi Coates          4.7    10070     13  2015   \n",
      "54                      Marjorie Sarnat          4.8     4022      4  2015   \n",
      "55                      Marjorie Sarnat          4.8     3871      5  2015   \n",
      "63                         Rod Campbell          4.8    10922      5  2015   \n",
      "89                          Marty Noble          4.6     2134      5  2015   \n",
      "99                      Johanna Basford          4.7     5413      9  2015   \n",
      "111                        Roger Priddy          4.7    17323      4  2015   \n",
      "123                       Giles Andreae          4.8    14038      4  2015   \n",
      "132                          Harper Lee          3.6    14982     19  2015   \n",
      "149                           E L James          4.4    25624     14  2015   \n",
      "158                          Scholastic          4.7     3564      9  2015   \n",
      "167                       Dale Carnegie          4.7    25001     11  2015   \n",
      "174                     Brandon Stanton          4.9     2812     17  2015   \n",
      "191                         Sarah Young          4.9    19576      8  2015   \n",
      "201                       Bill O'Reilly          4.6     5235      5  2015   \n",
      "206                         Rob Elliott          4.5     3673      4  2015   \n",
      "210                         Rob Elliott          4.6     6990      4  2015   \n",
      "224                       Robert Munsch          4.8    18613      5  2015   \n",
      "234                      Carol S. Dweck          4.6     5542     10  2015   \n",
      "248                           Dr. Seuss          4.9    21834      8  2015   \n",
      "253                         Jeff Kinney          4.8     6169      7  2015   \n",
      "277  American Psychological Association          4.5     8580     46  2015   \n",
      "295                     Johanna Basford          4.7     9366      9  2015   \n",
      "310                              Gallup          4.0     5069     17  2015   \n",
      "325                        Gary Chapman          4.8    25554      8  2015   \n",
      "335                    Stephen R. Covey          4.7     4725     16  2015   \n",
      "350                         B. J. Novak          4.8     8081      8  2015   \n",
      "352                  Daniel James Brown          4.8    23358     12  2015   \n",
      "362                        Drew Daywalt          4.8     8922      9  2015   \n",
      "376                     Don Miguel Ruiz          4.7    23308      6  2015   \n",
      "382                       Paula Hawkins          4.1    79446     18  2015   \n",
      "423                         Marie Kondō          4.5    22641     11  2015   \n",
      "433                           Andy Weir          4.7    39459      9  2015   \n",
      "437                      Kristin Hannah          4.8    49288     11  2015   \n",
      "447                        Ree Drummond          4.8     3428     14  2015   \n",
      "478                          Eric Carle          4.9    19546      5  2015   \n",
      "483               Melissa Hartwig Urban          4.6     7508     16  2015   \n",
      "492                    David McCullough          4.7     6169     16  2015   \n",
      "501                        Thug Kitchen          4.6    11128     23  2015   \n",
      "507                          Harper Lee          4.8    26234      0  2015   \n",
      "528                           Dr. Seuss          4.7     1873     14  2015   \n",
      "542                       R. J. Palacio          4.8    21625      9  2015   \n",
      "\n",
      "           genre  \n",
      "16   Non Fiction  \n",
      "17   Non Fiction  \n",
      "18   Non Fiction  \n",
      "21       Fiction  \n",
      "23   Non Fiction  \n",
      "28   Non Fiction  \n",
      "29   Non Fiction  \n",
      "34   Non Fiction  \n",
      "35   Non Fiction  \n",
      "54   Non Fiction  \n",
      "55   Non Fiction  \n",
      "63       Fiction  \n",
      "89   Non Fiction  \n",
      "99   Non Fiction  \n",
      "111  Non Fiction  \n",
      "123      Fiction  \n",
      "132      Fiction  \n",
      "149      Fiction  \n",
      "158  Non Fiction  \n",
      "167  Non Fiction  \n",
      "174  Non Fiction  \n",
      "191  Non Fiction  \n",
      "201  Non Fiction  \n",
      "206  Non Fiction  \n",
      "210  Non Fiction  \n",
      "224      Fiction  \n",
      "234  Non Fiction  \n",
      "248      Fiction  \n",
      "253      Fiction  \n",
      "277  Non Fiction  \n",
      "295  Non Fiction  \n",
      "310  Non Fiction  \n",
      "325  Non Fiction  \n",
      "335  Non Fiction  \n",
      "350      Fiction  \n",
      "352  Non Fiction  \n",
      "362      Fiction  \n",
      "376  Non Fiction  \n",
      "382      Fiction  \n",
      "423  Non Fiction  \n",
      "433      Fiction  \n",
      "437      Fiction  \n",
      "447  Non Fiction  \n",
      "478      Fiction  \n",
      "483  Non Fiction  \n",
      "492  Non Fiction  \n",
      "501  Non Fiction  \n",
      "507      Fiction  \n",
      "528      Fiction  \n",
      "542      Fiction  \n",
      "Відповідь: Найдорожча книга у 2015 році:\n",
      "                                                   name  \\\n",
      "277  Publication Manual of the American Psychologic...   \n",
      "\n",
      "                                 author  user_rating  reviews  price  year  \\\n",
      "277  American Psychological Association          4.5     8580     46  2015   \n",
      "\n",
      "           genre  \n",
      "277  Non Fiction  \n"
     ]
    }
   ],
   "source": [
    "#Відповідь: З тих книг, що потрапили до Топ-50 у 2015 році, яка книга найдорожча (можна використати проміжний датафрейм)?\n",
    "# Фільтрація датафрейму за роком\n",
    "df_2015 = df[df['year'] == 2015]\n",
    "print(df_2015)\n",
    "# Найдорожча книга у 2015 році\n",
    "most_expensive_book = df_2015[df_2015['price'] == df_2015['price'].max()]\n",
    "\n",
    "print(\"Відповідь: Найдорожча книга у 2015 році:\\n\", most_expensive_book)\n"
   ]
  },
  {
   "cell_type": "code",
   "execution_count": 59,
   "id": "1c38822d-da75-48a6-9916-3739c599a47b",
   "metadata": {},
   "outputs": [
    {
     "name": "stdout",
     "output_type": "stream",
     "text": [
      "Відповідь: Книги жанру Fiction, які потрапили до Топ-50 у 2010 році:\n",
      "                                                   name             author  \\\n",
      "46                    Catching Fire (The Hunger Games)    Suzanne Collins   \n",
      "56                                   Cutting for Stone   Abraham Verghese   \n",
      "61   Dead in the Family (Sookie Stackhouse/True Blo...   Charlaine Harris   \n",
      "218                                Little Bee: A Novel       Chris Cleave   \n",
      "236                      Mockingjay (The Hunger Games)    Suzanne Collins   \n",
      "264  Percy Jackson and the Olympians Paperback Boxe...       Rick Riordan   \n",
      "292                                        Sarah's Key  Tatiana de Rosnay   \n",
      "340             The Art of Racing in the Rain: A Novel        Garth Stein   \n",
      "357                            The Confession: A Novel       John Grisham   \n",
      "384  The Girl Who Kicked the Hornet's Nest (Millenn...      Stieg Larsson   \n",
      "386  The Girl Who Played with Fire (Millennium Series)      Stieg Larsson   \n",
      "389  The Girl with the Dragon Tattoo (Millennium Se...      Stieg Larsson   \n",
      "403                                           The Help   Kathryn Stockett   \n",
      "407                                   The Hunger Games    Suzanne Collins   \n",
      "419  The Last Olympian (Percy Jackson and the Olymp...       Rick Riordan   \n",
      "428          The Lost Hero (Heroes of Olympus, Book 1)       Rick Riordan   \n",
      "456      The Red Pyramid (The Kane Chronicles, Book 1)       Rick Riordan   \n",
      "461  The Short Second Life of Bree Tanner: An Eclip...    Stephenie Meyer   \n",
      "474      The Ugly Truth (Diary of a Wimpy Kid, Book 5)        Jeff Kinney   \n",
      "511  Towers of Midnight (Wheel of Time, Book Thirteen)      Robert Jordan   \n",
      "\n",
      "     user_rating  reviews  price  year    genre  \n",
      "46           4.7    22614     11  2010  Fiction  \n",
      "56           4.6     4866     11  2010  Fiction  \n",
      "61           4.3     1924      8  2010  Fiction  \n",
      "218          4.1     1467     10  2010  Fiction  \n",
      "236          4.5    26741      8  2010  Fiction  \n",
      "264          4.8      548      2  2010  Fiction  \n",
      "292          4.6     3619     10  2010  Fiction  \n",
      "340          4.7    11813     10  2010  Fiction  \n",
      "357          4.3     3523     13  2010  Fiction  \n",
      "384          4.7     7747     14  2010  Fiction  \n",
      "386          4.7     7251      9  2010  Fiction  \n",
      "389          4.4    10559      2  2010  Fiction  \n",
      "403          4.8    13871      6  2010  Fiction  \n",
      "407          4.7    32122     14  2010  Fiction  \n",
      "419          4.8     4628      7  2010  Fiction  \n",
      "428          4.8     4506     14  2010  Fiction  \n",
      "456          4.6     2186     12  2010  Fiction  \n",
      "461          4.6     2122      0  2010  Fiction  \n",
      "474          4.8     3796     12  2010  Fiction  \n",
      "511          4.8     2282     21  2010  Fiction  \n",
      "Відповідь: Кількість книг жанру Fiction, які потрапили до Топ-50 у 2010 році:  20\n"
     ]
    }
   ],
   "source": [
    "#Відповідь: Скільки книг жанру Fiction потрапили до Топ-50 у 2010 році (використовуйте &)?\n",
    "fiction_2010 = df[(df['genre'] == 'Fiction') & (df['year'] == 2010)]\n",
    "print(\"Відповідь: Книги жанру Fiction, які потрапили до Топ-50 у 2010 році:\\n\", fiction_2010)\n",
    "num_books_fiction_2010 = len(fiction_2010)\n",
    "print(\"Відповідь: Кількість книг жанру Fiction, які потрапили до Топ-50 у 2010 році: \", num_books_fiction_2010)"
   ]
  },
  {
   "cell_type": "code",
   "execution_count": 62,
   "id": "6354f668-7603-4508-9642-423c24798b60",
   "metadata": {},
   "outputs": [
    {
     "name": "stdout",
     "output_type": "stream",
     "text": [
      "Відповідь: Кількість книг з рейтингом 4.9 у 2010 або 2011 роках: 1\n"
     ]
    }
   ],
   "source": [
    "#Відповідь: Скільки книг з рейтингом 4.9 потрапило до рейтингу у 2010 та 2011 роках (використовуйте | або функцію isin)?\n",
    "books_4_9_2010_2011 = df[(df['user_rating'] == 4.9) & ((df['year'] == 2010) | (df['year'] == 2011))]\n",
    "num_books_4_9_2010_2011 = len(books_4_9_2010_2011)\n",
    "print(\"Відповідь: Кількість книг з рейтингом 4.9 у 2010 або 2011 роках:\", num_books_4_9_2010_2011)"
   ]
  },
  {
   "cell_type": "code",
   "execution_count": 64,
   "id": "466fa993-6b31-483b-81cd-f08e6e8b0da0",
   "metadata": {},
   "outputs": [
    {
     "name": "stdout",
     "output_type": "stream",
     "text": [
      "Відсортовані книги: \n",
      "                                                   name              author  \\\n",
      "507                              To Kill a Mockingbird          Harper Lee   \n",
      "210                      Laugh-Out-Loud Jokes for Kids         Rob Elliott   \n",
      "206                         Knock-Knock Jokes for Kids         Rob Elliott   \n",
      "111                                    First 100 Words        Roger Priddy   \n",
      "123                               Giraffes Can't Dance       Giles Andreae   \n",
      "54   Creative Haven Creative Cats Coloring Book (Ad...     Marjorie Sarnat   \n",
      "63                      Dear Zoo: A Lift-the-Flap Book        Rod Campbell   \n",
      "89   Dover Creative Haven Art Nouveau Animal Design...         Marty Noble   \n",
      "478                        The Very Hungry Caterpillar          Eric Carle   \n",
      "201  Killing Reagan: The Violent Assault That Chang...       Bill O'Reilly   \n",
      "28                        Baby Touch and Feel: Animals                  DK   \n",
      "224                                   Love You Forever       Robert Munsch   \n",
      "55   Creative Haven Owls Coloring Book (Adult Color...     Marjorie Sarnat   \n",
      "17      Adult Coloring Book: Stress Relieving Patterns  Blue Star Coloring   \n",
      "376  The Four Agreements: A Practical Guide to Pers...     Don Miguel Ruiz   \n",
      "16   Adult Coloring Book: Stress Relieving Animal D...  Blue Star Coloring   \n",
      "253              Old School (Diary of a Wimpy Kid #10)         Jeff Kinney   \n",
      "\n",
      "     user_rating  reviews  price  year        genre  \n",
      "507          4.8    26234      0  2015      Fiction  \n",
      "210          4.6     6990      4  2015  Non Fiction  \n",
      "206          4.5     3673      4  2015  Non Fiction  \n",
      "111          4.7    17323      4  2015  Non Fiction  \n",
      "123          4.8    14038      4  2015      Fiction  \n",
      "54           4.8     4022      4  2015  Non Fiction  \n",
      "63           4.8    10922      5  2015      Fiction  \n",
      "89           4.6     2134      5  2015  Non Fiction  \n",
      "478          4.9    19546      5  2015      Fiction  \n",
      "201          4.6     5235      5  2015  Non Fiction  \n",
      "28           4.6     5360      5  2015  Non Fiction  \n",
      "224          4.8    18613      5  2015      Fiction  \n",
      "55           4.8     3871      5  2015  Non Fiction  \n",
      "17           4.4     2951      6  2015  Non Fiction  \n",
      "376          4.7    23308      6  2015  Non Fiction  \n",
      "16           4.6     2925      6  2015  Non Fiction  \n",
      "253          4.8     6169      7  2015      Fiction  \n"
     ]
    }
   ],
   "source": [
    "#Відсортувати за зростанням ціни всі книги, які потрапили до рейтингу в 2015 році і коштують дешевше за 8 доларів\n",
    "#1 Фільтруємо дані за рейтингом у 2015 році та ціною менше 8 доларів\n",
    "books_2015_under_8 = df[(df['year'] == 2015) & (df['price'] < 8)]\n",
    "#2 Відсортовуємо за зростанням ціни\n",
    "sorted_books = books_2015_under_8.sort_values(by='price')\n",
    "print('Відсортовані книги: \\n', sorted_books)"
   ]
  },
  {
   "cell_type": "code",
   "execution_count": 68,
   "id": "b62bd4b8-91a6-4890-b6cb-d4c31a3cfa07",
   "metadata": {},
   "outputs": [
    {
     "name": "stdout",
     "output_type": "stream",
     "text": [
      "Відповідь: Остання книга у відсортованому списку: \n",
      "                                       name       author  user_rating  reviews  \\\n",
      "253  Old School (Diary of a Wimpy Kid #10)  Jeff Kinney          4.8     6169   \n",
      "\n",
      "     price  year    genre  \n",
      "253      7  2015  Fiction  \n"
     ]
    }
   ],
   "source": [
    "#Відповідь: Яка книга остання у відсортованому списку?\n",
    "last_book = sorted_books.iloc[[-1]]\n",
    "print(\"Відповідь: Остання книга у відсортованому списку: \\n\", last_book)"
   ]
  },
  {
   "cell_type": "code",
   "execution_count": 69,
   "id": "15c24a5f-6752-47be-9138-e517cbbdc5d3",
   "metadata": {},
   "outputs": [
    {
     "name": "stdout",
     "output_type": "stream",
     "text": [
      "Відповідь: Максимальна ціна для жанру Fiction: 82\n"
     ]
    }
   ],
   "source": [
    "#III Агрегування даних та з'єднання таблиць\n",
    "\n",
    "#Максимальна ціна для жанру Fiction\n",
    "#1 Групування за жанром і обчислення максимальної ціни\n",
    "max_price_by_genre = df.groupby('genre')['price'].max()\n",
    "#2 Отримання максимальної ціни для жанру Fiction\n",
    "max_price_fiction = max_price_by_genre['Fiction']\n",
    "print(\"Відповідь: Максимальна ціна для жанру Fiction:\", max_price_fiction)"
   ]
  },
  {
   "cell_type": "code",
   "execution_count": 71,
   "id": "bc464f91-209e-4566-9c3f-9bc9a4d76325",
   "metadata": {},
   "outputs": [
    {
     "name": "stdout",
     "output_type": "stream",
     "text": [
      "Відповідь: Мінімальна ціна для жанру Fiction: 0\n"
     ]
    }
   ],
   "source": [
    "#Мінімальна ціна для жанру Fiction\n",
    "#1 Групування за жанром і обчислення мінімальної ціни\n",
    "min_price_by_genre = df.groupby('genre')['price'].min()\n",
    "#2 Отримання мінімальної ціни для жанру Fiction\n",
    "min_price_fiction = min_price_by_genre['Fiction']\n",
    "print(\"Відповідь: Мінімальна ціна для жанру Fiction:\", min_price_fiction)"
   ]
  },
  {
   "cell_type": "code",
   "execution_count": 73,
   "id": "4f463599-d41e-4e7f-8790-3d589c742b96",
   "metadata": {},
   "outputs": [
    {
     "name": "stdout",
     "output_type": "stream",
     "text": [
      "Відповідь: Максимальна ціна для жанру Non Fiction: 105\n"
     ]
    }
   ],
   "source": [
    "#Максимальна ціна для жанру Non Fiction\n",
    "#1 Групування за жанром і обчислення максимальної ціни\n",
    "max_price_by_genre = df.groupby('genre')['price'].max()\n",
    "#2 Отримання максимальної ціни для жанру Non Fiction\n",
    "max_price_non_fiction = max_price_by_genre['Non Fiction']\n",
    "print(\"Відповідь: Максимальна ціна для жанру Non Fiction:\", max_price_non_fiction)"
   ]
  },
  {
   "cell_type": "code",
   "execution_count": 74,
   "id": "a6add3ce-3da8-4d86-b240-ac0ef4fb4341",
   "metadata": {},
   "outputs": [
    {
     "name": "stdout",
     "output_type": "stream",
     "text": [
      "Відповідь: Мінімальна ціна для жанру Non Fiction: 0\n"
     ]
    }
   ],
   "source": [
    "#Мінімальна ціна для жанру Non Fiction\n",
    "#1 Групування за жанром і обчислення мінімальної ціни\n",
    "min_price_by_genre = df.groupby('genre')['price'].min()\n",
    "#2 Отримання мінімальної ціни для жанру Non Fiction\n",
    "min_price_non_fiction = min_price_by_genre['Non Fiction']\n",
    "print(\"Відповідь: Мінімальна ціна для жанру Non Fiction:\", min_price_non_fiction)"
   ]
  },
  {
   "cell_type": "markdown",
   "id": "160d1034-f7be-4850-bf54-08766f45244e",
   "metadata": {},
   "source": []
  },
  {
   "cell_type": "code",
   "execution_count": 77,
   "id": "1cbd87c6-c708-42a9-941d-628c832c6e76",
   "metadata": {},
   "outputs": [
    {
     "name": "stdout",
     "output_type": "stream",
     "text": [
      "                            books_count\n",
      "author                                 \n",
      "Abraham Verghese                      2\n",
      "Adam Gasiewski                        1\n",
      "Adam Mansbach                         1\n",
      "Adir Levy                             1\n",
      "Admiral William H. McRaven            1\n",
      "...                                 ...\n",
      "Walter Isaacson                       3\n",
      "William Davis                         2\n",
      "William P. Young                      2\n",
      "Wizards RPG Team                      3\n",
      "Zhi Gang Sha                          2\n",
      "\n",
      "[248 rows x 1 columns]\n"
     ]
    }
   ],
   "source": [
    "#Тепер створіть новий датафрейм, який вміщатиме кількість книг для кожного з авторів \n",
    "#(використовуйте функції groupby та agg, для підрахунку кількості використовуйте count). \n",
    "#1 Групуємо за автором і підраховуємо кількість книг для кожного автора\n",
    "books_by_author = df.groupby('author')['name'].agg(['count'])\n",
    "#2 Перейменовуємо стовпець з кількістю книг\n",
    "books_by_author = books_by_author.rename(columns={'count': 'books_count'})\n",
    "# Виводимо новий датафрейм\n",
    "print(books_by_author)"
   ]
  },
  {
   "cell_type": "code",
   "execution_count": 79,
   "id": "47086719-3f95-4877-8b40-00a563646a9d",
   "metadata": {},
   "outputs": [
    {
     "name": "stdout",
     "output_type": "stream",
     "text": [
      "Відповідь: Якої розмірності вийшла таблиця? :  (248, 1)\n"
     ]
    }
   ],
   "source": [
    "#Відповідь: Якої розмірності вийшла таблиця?\n",
    "print(\"Якої розмірності вийшла таблиця? Відповідь: \", books_by_author.shape)"
   ]
  },
  {
   "cell_type": "code",
   "execution_count": 87,
   "id": "e91fc9bc-9a75-4fed-a72b-05fa4f688538",
   "metadata": {},
   "outputs": [
    {
     "name": "stdout",
     "output_type": "stream",
     "text": [
      "Який автор має найбільше книг? Відповідь:  Jeff Kinney\n"
     ]
    }
   ],
   "source": [
    "#Який автор має найбільше книг? \n",
    "# Знаходимо індекс автора з найбільшою кількістю книг\n",
    "author_with_most_books = books_by_author['books_count'].idxmax()\n",
    "print(\"Який автор має найбільше книг? Відповідь: \", author_with_most_books)"
   ]
  },
  {
   "cell_type": "code",
   "execution_count": 83,
   "id": "9951f088-ab81-4fd3-b17e-36a99b3978b8",
   "metadata": {},
   "outputs": [
    {
     "name": "stdout",
     "output_type": "stream",
     "text": [
      "Скільки книг цього автора? Відповідь:  books_count    12\n",
      "dtype: int64\n"
     ]
    }
   ],
   "source": [
    "#Відповідь: Який автор має найбільше книг? \n",
    "print(\"Скільки книг цього автора? Відповідь: \", books_by_author.max())"
   ]
  },
  {
   "cell_type": "code",
   "execution_count": 89,
   "id": "ae94b479-bad1-4ed4-a3f5-e4fea34f025a",
   "metadata": {},
   "outputs": [
    {
     "name": "stdout",
     "output_type": "stream",
     "text": [
      "                         author  user_rating\n",
      "0              Abraham Verghese     4.600000\n",
      "1                Adam Gasiewski     4.400000\n",
      "2                 Adam Mansbach     4.800000\n",
      "3                     Adir Levy     4.800000\n",
      "4    Admiral William H. McRaven     4.700000\n",
      "..                          ...          ...\n",
      "243             Walter Isaacson     4.566667\n",
      "244               William Davis     4.400000\n",
      "245            William P. Young     4.600000\n",
      "246            Wizards RPG Team     4.800000\n",
      "247                Zhi Gang Sha     4.600000\n",
      "\n",
      "[248 rows x 2 columns]\n",
      "У якого автора середній рейтинг мінімальний? Відповідь: Donna Tartt\n"
     ]
    }
   ],
   "source": [
    "#створіть другий датафрейм, який буде вміщати середній рейтинг для кожного автора\n",
    "#1 Групуємо за автором та обчислюємо середній рейтинг\n",
    "average_rating_by_author = df.groupby('author')['user_rating'].mean().reset_index()\n",
    "#2 Виводимо перші декілька рядків нового датафрейму\n",
    "print(average_rating_by_author)\n",
    "#3 Знаходимо автора з мінімальним середнім рейтингом\n",
    "author_with_min_avg_rating = average_rating_by_author.loc[average_rating_by_author['user_rating'].idxmin()]\n",
    "#4 Виводимо автора з мінімальним середнім рейтингом\n",
    "print(\"У якого автора середній рейтинг мінімальний? Відповідь:\", author_with_min_avg_rating['author'])"
   ]
  },
  {
   "cell_type": "code",
   "execution_count": 91,
   "id": "385c81df-8b96-44c9-b5c7-42af91f657cf",
   "metadata": {},
   "outputs": [
    {
     "name": "stdout",
     "output_type": "stream",
     "text": [
      "Який у цього автора середній рейтинг? Відповідь:  3.9\n"
     ]
    }
   ],
   "source": [
    "# Який у цього автора середній рейтинг?\n",
    "#1 Отримуємо середній рейтинг для автора з мінімальним середнім рейтингом\n",
    "min_avg_rating = author_with_min_avg_rating['user_rating']\n",
    "#2 Виводимо значення середнього рейтингу\n",
    "print(\"Який у цього автора середній рейтинг? Відповідь: \", min_avg_rating)"
   ]
  },
  {
   "cell_type": "code",
   "execution_count": 113,
   "id": "3f137364-60c1-42f9-b313-e35080ac6cf1",
   "metadata": {},
   "outputs": [
    {
     "name": "stdout",
     "output_type": "stream",
     "text": [
      "                         author  user_rating\n",
      "0              Abraham Verghese     4.600000\n",
      "1                Adam Gasiewski     4.400000\n",
      "2                 Adam Mansbach     4.800000\n",
      "3                     Adir Levy     4.800000\n",
      "4    Admiral William H. McRaven     4.700000\n",
      "..                          ...          ...\n",
      "243             Walter Isaacson     4.566667\n",
      "244               William Davis     4.400000\n",
      "245            William P. Young     4.600000\n",
      "246            Wizards RPG Team     4.800000\n",
      "247                Zhi Gang Sha     4.600000\n",
      "\n",
      "[248 rows x 2 columns]\n",
      "     books_count\n",
      "0              2\n",
      "1              1\n",
      "2              1\n",
      "3              1\n",
      "4              1\n",
      "..           ...\n",
      "243            3\n",
      "244            2\n",
      "245            2\n",
      "246            3\n",
      "247            2\n",
      "\n",
      "[248 rows x 1 columns]\n",
      "Index(['author', 'user_rating'], dtype='object')\n",
      "Index(['books_count'], dtype='object')\n",
      "Index(['author', 'user_rating', 'books_count'], dtype='object')\n",
      "Об'єднаний датафрейм \n",
      "                          author  user_rating  books_count\n",
      "0              Abraham Verghese     4.600000            2\n",
      "1                Adam Gasiewski     4.400000            1\n",
      "2                 Adam Mansbach     4.800000            1\n",
      "3                     Adir Levy     4.800000            1\n",
      "4    Admiral William H. McRaven     4.700000            1\n",
      "..                          ...          ...          ...\n",
      "243             Walter Isaacson     4.566667            3\n",
      "244               William Davis     4.400000            2\n",
      "245            William P. Young     4.600000            2\n",
      "246            Wizards RPG Team     4.800000            3\n",
      "247                Zhi Gang Sha     4.600000            2\n",
      "\n",
      "[248 rows x 3 columns]\n"
     ]
    }
   ],
   "source": [
    "#З'єднайте останні два датафрейми так, щоб для кожного автора було видно кількість книг та середній рейтинг \n",
    "#(Використовуйте функцію concat з параметром axis=1). Збережіть результат у змінну\n",
    "# З'єднання датафреймів за допомогою concat з параметром axis=1\n",
    "print(average_rating_by_author)\n",
    "print(books_by_author)\n",
    "# Перевіряємо, що індекси унікальні та відповідають один одному\n",
    "average_rating_by_author = average_rating_by_author.reset_index(drop=True)\n",
    "books_by_author = books_by_author.reset_index(drop=True)\n",
    "# Перевірка назв стовпців\n",
    "print(average_rating_by_author.columns)\n",
    "print(books_by_author.columns)\n",
    "merged_df = pd.concat([average_rating_by_author, books_by_author], axis=1)\n",
    "print(merged_df.columns)\n",
    "#2 Виведемо з'єднаний датафрейм\n",
    "print(\"Об'єднаний датафрейм \\n\", merged_df)"
   ]
  },
  {
   "cell_type": "code",
   "execution_count": 114,
   "id": "3dd83a5d-8e4c-4d48-8946-47a9082a3f7d",
   "metadata": {},
   "outputs": [
    {
     "name": "stdout",
     "output_type": "stream",
     "text": [
      "                                 author  user_rating  books_count\n",
      "171                      Muriel Barbery     4.000000            1\n",
      "43                         Chris Cleave     4.100000            1\n",
      "109                   Ian K. Smith M.D.     4.100000            1\n",
      "186                        Pierre Dukan     4.100000            1\n",
      "81                     Elizabeth Strout     4.200000            1\n",
      "..                                  ...          ...          ...\n",
      "11   American Psychological Association     4.500000           10\n",
      "226                     Suzanne Collins     4.663636           11\n",
      "92                         Gary Chapman     4.736364           11\n",
      "197                        Rick Riordan     4.772727           11\n",
      "120                         Jeff Kinney     4.800000           12\n",
      "\n",
      "[248 rows x 3 columns]\n",
      "Відповідь: 247\n"
     ]
    }
   ],
   "source": [
    "# Сортування датафрейму за зростаючою кількістю книг та зростаючим рейтингом\n",
    "sorted_merged_df = merged_df.sort_values(by=['books_count', 'user_rating'], ascending=[True, True])\n",
    "# Виведення відсортованого датафрейму\n",
    "print(sorted_merged_df)\n",
    "\n",
    "author_max = sorted_merged_df.idxmax().values[0]\n",
    "print(f\"Відповідь: {author_max}\")"
   ]
  },
  {
   "cell_type": "code",
   "execution_count": 115,
   "id": "8d8148b6-ab0b-4a3b-98df-fa22877c4f20",
   "metadata": {},
   "outputs": [
    {
     "name": "stdout",
     "output_type": "stream",
     "text": [
      "Автор, перший у списку. Відповідь: \n",
      " author         Abraham Verghese\n",
      "user_rating                 4.6\n",
      "books_count                   2\n",
      "Name: 0, dtype: object\n"
     ]
    }
   ],
   "source": [
    "#Який автор перший у списку?\n",
    "first_author = merged_df.iloc[0]\n",
    "print(\"Автор, перший у списку. Відповідь: \\n\", first_author)"
   ]
  },
  {
   "cell_type": "code",
   "execution_count": null,
   "id": "493ed660-f0ee-4b12-a9f2-7ada08a351d2",
   "metadata": {},
   "outputs": [],
   "source": []
  }
 ],
 "metadata": {
  "kernelspec": {
   "display_name": "Python 3 (ipykernel)",
   "language": "python",
   "name": "python3"
  },
  "language_info": {
   "codemirror_mode": {
    "name": "ipython",
    "version": 3
   },
   "file_extension": ".py",
   "mimetype": "text/x-python",
   "name": "python",
   "nbconvert_exporter": "python",
   "pygments_lexer": "ipython3",
   "version": "3.11.7"
  }
 },
 "nbformat": 4,
 "nbformat_minor": 5
}
